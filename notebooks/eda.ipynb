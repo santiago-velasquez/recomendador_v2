{
 "cells": [
  {
   "cell_type": "code",
   "execution_count": 170,
   "metadata": {},
   "outputs": [],
   "source": [
    "import pandas as pd\n",
    "import numpy as np"
   ]
  },
  {
   "cell_type": "markdown",
   "metadata": {},
   "source": [
    "# Procesamiento columna 'Descripción'"
   ]
  },
  {
   "cell_type": "code",
   "execution_count": 171,
   "metadata": {},
   "outputs": [
    {
     "data": {
      "text/plain": [
       "['Lista de equipos',\n",
       " 'Historico calif 2_1(10 años)',\n",
       " 'T-PAP(C)_T-ACE',\n",
       " 'ARC(I)_ARC(D)',\n",
       " 'DP',\n",
       " 'OIL.TAP',\n",
       " 'DIEL.PF_ DIEL',\n",
       " 'OIL.CORR',\n",
       " 'PRO-M',\n",
       " 'M.OLTC']"
      ]
     },
     "execution_count": 171,
     "metadata": {},
     "output_type": "execute_result"
    }
   ],
   "source": [
    "excel_file = pd.ExcelFile('../data/raw/data.xlsx')\n",
    "sheets = excel_file.sheet_names\n",
    "sheets"
   ]
  },
  {
   "cell_type": "code",
   "execution_count": 160,
   "metadata": {},
   "outputs": [],
   "source": [
    "import unidecode\n",
    "\n",
    "def norm_descrpcion(s):\n",
    "    s = s.lower()\n",
    "    s = unidecode.unidecode(s)\n",
    "    return s\n",
    "\n",
    "converter_descripcion = {}\n",
    "converter_descripcion['Descripción'] = norm_descrpcion\n",
    "\n",
    "df_collection = {}\n",
    "for name in sheets:\n",
    "    df_collection[name] = pd.read_excel('../data/raw/data.xlsx', sheet_name=name, converters=converter_descripcion)"
   ]
  },
  {
   "cell_type": "markdown",
   "metadata": {},
   "source": [
    "1. Separar cada fila en cada una de las descripciones. i.e : \"realizar analisis dga, humedad y furanos\" deben quedar dos filas exactamente iguales pero con cada uno de los registros. -> pd.explode(), explode a esa accion de expandir un dataset con base a una regla.\n",
    "\n",
    "2. Aplicar un algoritmo de distancia de levehnstein. \n",
    "\n",
    "3. Análisis descriptivo que relacione cada equipo con las acciones. i.e: frecuencias de cada accion para cada equipo."
   ]
  },
  {
   "cell_type": "markdown",
   "metadata": {},
   "source": [
    "## Separación manual"
   ]
  },
  {
   "cell_type": "code",
   "execution_count": 161,
   "metadata": {},
   "outputs": [],
   "source": [
    "def separacion_manual(dframe, originales, reemplazos, adiciones):\n",
    "    df = dframe.copy()\n",
    "    for i in range(len(originales)):\n",
    "        index = df['Descripción'] == originales[i]\n",
    "        if sum(index) > 0:\n",
    "            instancias = df.loc[index].copy()\n",
    "            df.loc[index,'Descripción'] = reemplazos[i]\n",
    "            df = df.append(instancias, ignore_index = True)\n",
    "            df.loc[len(df) - sum(index):,'Descripción'] = adiciones[i]\n",
    "    return df\n",
    "\n",
    "\n",
    "\n",
    "\n",
    "df_collection_separados = {}\n",
    "\n",
    "excel_file_reemplazos = pd.ExcelFile('../data/reemplazos_manual/reemplazos_manual.xlsx')\n",
    "sheets_reemplazos = excel_file_reemplazos.sheet_names\n",
    "df_collection_manuales = {}\n",
    "\n",
    "converter_manuales = {}\n",
    "converter_manuales['Originales'] = norm_descrpcion\n",
    "converter_manuales['Reemplazos'] = norm_descrpcion\n",
    "converter_manuales['Adiciones'] = norm_descrpcion\n",
    "\n",
    "for name in sheets_reemplazos:#sheets_reemplazos:\n",
    "    df_collection_manuales[name] = pd.read_excel('../data/reemplazos_manual/reemplazos_manual.xlsx', sheet_name = name, converters = converter_manuales)\n",
    "    index_manuales = ~df_collection_manuales[name].loc[:,'Reemplazos'].isna()\n",
    "    originales = df_collection_manuales[name].loc[index_manuales, 'Originales'].values\n",
    "    reemplazos = df_collection_manuales[name].loc[index_manuales, 'Reemplazos'].values\n",
    "    adiciones = df_collection_manuales[name].loc[index_manuales, 'Adiciones'].values\n",
    "    df_collection_separados[name] = separacion_manual(df_collection[name], originales, reemplazos, adiciones)"
   ]
  },
  {
   "cell_type": "markdown",
   "metadata": {},
   "source": [
    "## Normalización por palabras claves"
   ]
  },
  {
   "cell_type": "code",
   "execution_count": 162,
   "metadata": {},
   "outputs": [],
   "source": [
    "palabras_clave = {}\n",
    "palabras_clave['revisar/cambiar motoventilador'] = ['motoventilador','ventilador','motoventiladores','ventiladores']\n",
    "palabras_clave['realizar analisis dga y humedad seguimiento'] = ['dga']\n",
    "palabras_clave['hacer seguimiento generacion anormal de gases'] = ['generacion','energizacion','gases']\n",
    "palabras_clave['cambiar silica oltc'] = ['silica']\n",
    "palabras_clave['cambiar filtro oltc'] = ['filtro']\n",
    "palabras_clave['realizar secado oltc'] = ['secado']\n",
    "palabras_clave['realizar muestreo-analisis fsco-qco oltc'] = ['aceite','muestra','fsco','qco']\n",
    "palabras_clave['realizar regeneramiento aceite aislante'] = ['regeneramiento','regeneracion']\n",
    "palabras_clave['adicionar irgamet39 a 100ppm'] = ['irgamet','pasivador','pasivar']\n",
    "palabras_clave['temperatura devenado'] = ['calibrar indicador temperatura devanados']\n",
    "palabras_clave['efectuar prueba de descargas parciales'] = ['descargas parc']\n",
    "palabras_clave['seguimiento durante montaje'] = ['durante montaje']\n",
    "palabras_clave['verificar condicion antes energizar oltc'] = ['energizar']\n",
    "palabras_clave['realizar prueba estimacion humedad whrt'] = ['estimacion humedad']\n",
    "palabras_clave['cambiar valvula alivio presion'] = ['alivio presion', 'alivio de presion','valvula alivio','valvula de alivio','valvula de sobre presion','valvula sobre presion','valvula de sobrepresion','valvula sobrepresion']\n",
    "palabras_clave['presion subita'] = ['cambiar rele presion subita']\n",
    "palabras_clave['revisar/cambiar contador cambiador tapsbiador'] = ['contador']\n",
    "df_collection_pc = df_collection_separados.copy()\n",
    "unicos_pc = {}\n",
    "index_unicos_pc = {}\n",
    "\n",
    "for name in sheets_reemplazos:\n",
    "    unicos = pd.unique(df_collection_separados[name]['Descripción'])\n",
    "    index_unicos = np.zeros(len(unicos))\n",
    "    for i in range(len(unicos)):\n",
    "        index_unicos[i] = i\n",
    "        for key,value in palabras_clave.items():\n",
    "            for word in value:\n",
    "                if word in unicos[i]:\n",
    "                    df_collection_pc[name] = df_collection_pc[name].replace(unicos[i],key)\n",
    "                    unicos[i] = key\n",
    "                    break\n",
    "    unicos_pc[name] = unicos\n",
    "    index_unicos_pc[name] = index_unicos"
   ]
  },
  {
   "cell_type": "markdown",
   "metadata": {},
   "source": [
    "## Aplicando el algoritmo de distancia de Levenshtein"
   ]
  },
  {
   "cell_type": "markdown",
   "metadata": {},
   "source": [
    "### Algoritmo de Levenshtein"
   ]
  },
  {
   "cell_type": "code",
   "execution_count": 163,
   "metadata": {},
   "outputs": [],
   "source": [
    "def dist_lev(s1,s2):\n",
    "    dist_matrix = np.zeros((len(s1) + 1, len(s2) + 1))\n",
    "    dist_matrix[1:,0] = range(1,len(s1) + 1)\n",
    "    dist_matrix[0,1:] = range(1,len(s2) + 1)\n",
    "    for i in range(1, len(s1) + 1):\n",
    "        for j in range(1, len(s2) + 1):\n",
    "            if s1[i - 1] == s2[j - 1]:\n",
    "                dist_matrix[i,j] = min(dist_matrix[i - 1, j] + 1, \n",
    "                                    dist_matrix[i - 1, j - 1], \n",
    "                                    dist_matrix[i, j - 1] + 1)\n",
    "            else:\n",
    "                dist_matrix[i,j] = min(dist_matrix[i - 1, j] + 1, \n",
    "                                    dist_matrix[i - 1, j - 1] + 1, \n",
    "                                    dist_matrix[i, j - 1] + 1)\n",
    "    return dist_matrix[-1,-1]"
   ]
  },
  {
   "cell_type": "markdown",
   "metadata": {},
   "source": [
    "### Aplicando y ordenando según distancia"
   ]
  },
  {
   "cell_type": "code",
   "execution_count": 164,
   "metadata": {},
   "outputs": [],
   "source": [
    "# Extrayendo valores únicos:\n",
    "ordenados_collection = {}\n",
    "dist_ordenados_collection = {}\n",
    "index_ordenados_collection = {}\n",
    "for name in sheets_reemplazos:\n",
    "    unicos = pd.unique(unicos_pc[name])\n",
    "    #Construyendo matriz de distancia de Levenshtein\n",
    "    dist_unicos = np.zeros((len(unicos), len(unicos)))\n",
    "    for i in range(len(unicos)):\n",
    "        for j in range(i + 1, len(unicos)):\n",
    "            dist_unicos[i, j] = dist_lev(unicos[i], unicos[j])\n",
    "            dist_unicos[j,i] = dist_unicos[i,j] \n",
    "    #Inizializar varibales\n",
    "    # dist_unicos = np.array([[0,8,8,10.5],[1,0,4,3],[2,5,0,6],[8,10,7,0]])\n",
    "    # unicos = [1,2,3,4]\n",
    "    ordenados = ['']*len(unicos)\n",
    "    dist_ordenados = np.zeros(len(unicos))\n",
    "    index_ordenados = np.zeros(len(unicos))\n",
    "    #Ubicando primer elemento\n",
    "    max_dist_index = np.argmax(dist_unicos)\n",
    "    max_dist_index = np.unravel_index(max_dist_index, np.shape(dist_unicos))\n",
    "    row = max_dist_index[0]\n",
    "    ordenados[0] = unicos[row]\n",
    "    index_ordenados[0] = row\n",
    "    dist_ordenados[0] = 0\n",
    "    dist_unicos[row,:] = np.inf\n",
    "    #Diagonal igual a infinito\n",
    "    for i in range(len(unicos)):\n",
    "        dist_unicos[i,i] = np.inf\n",
    "    #Ubicando el resto de los elementos\n",
    "    for i in range(len(unicos) - 1):\n",
    "        min_dist = np.min(dist_unicos[:,row])\n",
    "        dist_ordenados[i + 1] = dist_ordenados[i] + min_dist\n",
    "        row = np.argmin(dist_unicos[:,row])\n",
    "        ordenados[i + 1] = unicos[row]\n",
    "        index_ordenados[i + 1] = row\n",
    "        dist_unicos[row,:] = np.inf\n",
    "    #Ubicándolos por hoja\n",
    "    ordenados_collection[name] = ordenados\n",
    "    dist_ordenados_collection[name] = dist_ordenados\n",
    "    index_ordenados_collection[name] = index_ordenados\n"
   ]
  },
  {
   "cell_type": "markdown",
   "metadata": {},
   "source": [
    "### Escribiendo los resultados en Excel"
   ]
  },
  {
   "cell_type": "code",
   "execution_count": 165,
   "metadata": {},
   "outputs": [],
   "source": [
    "import xlsxwriter\n",
    "workbook = xlsxwriter.Workbook('../data/reemplazos_manual/unicos_ordenados.xlsx')\n",
    "for name in sheets_reemplazos:\n",
    "    worksheet = workbook.add_worksheet(name)\n",
    "    for i in range(len(ordenados_collection[name])): \n",
    "        worksheet.write(i,0,ordenados_collection[name][i])\n",
    "        worksheet.write(i,1,ordenados_collection[name][i])\n",
    "        worksheet.write(i,2,dist_ordenados_collection[name][i])\n",
    "        worksheet.write(i,3,index_ordenados_collection[name][i])\n",
    "\n",
    "workbook.close()"
   ]
  },
  {
   "cell_type": "markdown",
   "metadata": {},
   "source": [
    "# Separación por equipos"
   ]
  },
  {
   "cell_type": "code",
   "execution_count": 166,
   "metadata": {},
   "outputs": [],
   "source": [
    "equipos_unicos = pd.unique(df_collection['Lista de equipos']['Equipo'])\n",
    "df_collection_equipos = {}\n",
    "for sheet in sheets_reemplazos:\n",
    "    df_collection_equipos[sheet] = pd.DataFrame()\n",
    "    equipos_unicos = pd.unique(df_collection_pc[sheet]['Equipo'])\n",
    "    for equipo in equipos_unicos:\n",
    "        df_equipo = df_collection_pc[sheet].loc[df_collection_pc[sheet]['Equipo'] == equipo].copy()\n",
    "        descripciones_unicas = pd.unique(df_equipo['Descripción'])\n",
    "        equipo_descripcion = {'Equipo':[equipo]*len(descripciones_unicas),'Descripción':descripciones_unicas}\n",
    "        df_collection_equipos[sheet] = df_collection_equipos[sheet].append(pd.DataFrame(equipo_descripcion),ignore_index = True)\n"
   ]
  },
  {
   "cell_type": "code",
   "execution_count": 167,
   "metadata": {},
   "outputs": [
    {
     "data": {
      "text/html": [
       "<div>\n",
       "<style scoped>\n",
       "    .dataframe tbody tr th:only-of-type {\n",
       "        vertical-align: middle;\n",
       "    }\n",
       "\n",
       "    .dataframe tbody tr th {\n",
       "        vertical-align: top;\n",
       "    }\n",
       "\n",
       "    .dataframe thead th {\n",
       "        text-align: right;\n",
       "    }\n",
       "</style>\n",
       "<table border=\"1\" class=\"dataframe\">\n",
       "  <thead>\n",
       "    <tr style=\"text-align: right;\">\n",
       "      <th></th>\n",
       "      <th>Equipo</th>\n",
       "      <th>Descripción</th>\n",
       "    </tr>\n",
       "  </thead>\n",
       "  <tbody>\n",
       "    <tr>\n",
       "      <th>0</th>\n",
       "      <td>809578</td>\n",
       "      <td>realizar analisis dga y humedad seguimiento</td>\n",
       "    </tr>\n",
       "    <tr>\n",
       "      <th>1</th>\n",
       "      <td>809578</td>\n",
       "      <td>revisar/cambiar motoventilador</td>\n",
       "    </tr>\n",
       "    <tr>\n",
       "      <th>2</th>\n",
       "      <td>809578</td>\n",
       "      <td>efectuar seguimiento anomalia termica</td>\n",
       "    </tr>\n",
       "    <tr>\n",
       "      <th>3</th>\n",
       "      <td>809578</td>\n",
       "      <td>realizar muestreo-analisis fsco-qco oltc</td>\n",
       "    </tr>\n",
       "    <tr>\n",
       "      <th>4</th>\n",
       "      <td>810449</td>\n",
       "      <td>realizar analisis dga y humedad seguimiento</td>\n",
       "    </tr>\n",
       "    <tr>\n",
       "      <th>...</th>\n",
       "      <td>...</td>\n",
       "      <td>...</td>\n",
       "    </tr>\n",
       "    <tr>\n",
       "      <th>91</th>\n",
       "      <td>203342</td>\n",
       "      <td>cambiar indicador de nivel cuba ppal</td>\n",
       "    </tr>\n",
       "    <tr>\n",
       "      <th>92</th>\n",
       "      <td>203342</td>\n",
       "      <td>realizar analisis dga y humedad seguimiento</td>\n",
       "    </tr>\n",
       "    <tr>\n",
       "      <th>93</th>\n",
       "      <td>118423</td>\n",
       "      <td>revisar/cambiar motoventilador</td>\n",
       "    </tr>\n",
       "    <tr>\n",
       "      <th>94</th>\n",
       "      <td>118423</td>\n",
       "      <td>montaje de moto ventiladir</td>\n",
       "    </tr>\n",
       "    <tr>\n",
       "      <th>95</th>\n",
       "      <td>300390</td>\n",
       "      <td>realizar muestreo-analisis fsco-qco oltc</td>\n",
       "    </tr>\n",
       "  </tbody>\n",
       "</table>\n",
       "<p>96 rows × 2 columns</p>\n",
       "</div>"
      ],
      "text/plain": [
       "    Equipo                                  Descripción\n",
       "0   809578  realizar analisis dga y humedad seguimiento\n",
       "1   809578               revisar/cambiar motoventilador\n",
       "2   809578        efectuar seguimiento anomalia termica\n",
       "3   809578     realizar muestreo-analisis fsco-qco oltc\n",
       "4   810449  realizar analisis dga y humedad seguimiento\n",
       "..     ...                                          ...\n",
       "91  203342         cambiar indicador de nivel cuba ppal\n",
       "92  203342  realizar analisis dga y humedad seguimiento\n",
       "93  118423               revisar/cambiar motoventilador\n",
       "94  118423                   montaje de moto ventiladir\n",
       "95  300390     realizar muestreo-analisis fsco-qco oltc\n",
       "\n",
       "[96 rows x 2 columns]"
      ]
     },
     "execution_count": 167,
     "metadata": {},
     "output_type": "execute_result"
    }
   ],
   "source": [
    "df_collection_equipos['T-PAP(C)_T-ACE']"
   ]
  },
  {
   "cell_type": "markdown",
   "metadata": {},
   "source": [
    "# Calificación más reciente"
   ]
  },
  {
   "cell_type": "code",
   "execution_count": 253,
   "metadata": {},
   "outputs": [
    {
     "name": "stdout",
     "output_type": "stream",
     "text": [
      "T-PAP(C)_T-ACE\n",
      "58/160\n",
      "36.25%\n",
      "ARC(I)_ARC(D)\n",
      "27/47\n",
      "57.4468085106383%\n",
      "DP\n",
      "7/27\n",
      "25.925925925925927%\n",
      "OIL.TAP\n",
      "109/362\n",
      "30.11049723756906%\n",
      "DIEL.PF_ DIEL\n",
      "19/42\n",
      "45.23809523809524%\n",
      "OIL.CORR\n",
      "36/75\n",
      "48.0%\n",
      "PRO-M\n",
      "207/546\n",
      "37.91208791208791%\n",
      "M.OLTC\n",
      "26/112\n",
      "23.214285714285715%\n"
     ]
    }
   ],
   "source": [
    "import datetime\n",
    "from datetime import datetime\n",
    "from datetime import timedelta\n",
    "\n",
    "\n",
    "datetime_format = '%Y-%m-%d %H:%M:%S'\n",
    "df_collection_diferencias = {}\n",
    "\n",
    "#Calificaciones históricas\n",
    "df_calificaciones_historico = df_collection['Historico calif 2_1(10 años)']\n",
    "date_format = '%Y-%m-%d %H:%M:%S'\n",
    "for i in range(len(sheets_reemplazos)):\n",
    "    sheet = sheets_reemplazos[i]\n",
    "    df_collection_diferencias[sheet] = pd.DataFrame()\n",
    "    for j in range(len(df_collection_pc[sheet])):\n",
    "        #Extraer equipo, acción y fecha de cada acción de mantenimiento\n",
    "        equipo = df_collection_pc[sheet].loc[j,'Equipo']\n",
    "        accion = df_collection_pc[sheet].loc[j,'Descripción']\n",
    "        fecha_accion = df_collection_pc[sheet].loc[j,'Creado el']\n",
    "        fecha_accion_datetime = datetime.strptime(str(fecha_accion),datetime_format)\n",
    "\n",
    "        #Encontrar la fecha de calificación más cercana\n",
    "        index_equipo = df_calificaciones_historico['Equipo'] == equipo\n",
    "        index_anterior = df_calificaciones_historico['Creado el'] < fecha_accion\n",
    "        if any(index_equipo & index_anterior):\n",
    "            fechas_calificacion = df_calificaciones_historico.loc[index_equipo & index_anterior,'Creado el']\n",
    "            min_delta = timedelta(days = 100000)\n",
    "            for fc in fechas_calificacion:\n",
    "                fecha_calificacion_datetime = datetime.strptime(str(fc),datetime_format)\n",
    "                delta = fecha_accion_datetime - fecha_calificacion_datetime\n",
    "                if delta < min_delta:\n",
    "                    min_delta = delta\n",
    "        else:\n",
    "            min_delta = timedelta(days = -1)\n",
    "\n",
    "        instancia = {'Equipo':equipo,'Descripción':accion,'Mínima diferencia':min_delta}\n",
    "        df_collection_diferencias[sheet] = df_collection_diferencias[sheet].append(pd.DataFrame(instancia,index =[j]),ignore_index = True)\n",
    "    print(sheet)\n",
    "    print(str(sum(df_collection_diferencias[sheet]['Mínima diferencia'] > timedelta(days = 0))) + '/' + str(j + 1))\n",
    "    print(str(100*sum(df_collection_diferencias[sheet]['Mínima diferencia'] > timedelta(days = 0))/(j + 1)) + '%')"
   ]
  }
 ],
 "metadata": {
  "interpreter": {
   "hash": "e28f919b63a2130ba2cf884661cecdf5608513aedb75b97e868f73e75f1dfbd3"
  },
  "kernelspec": {
   "display_name": "Python 3.8.8 64-bit ('base': conda)",
   "name": "python3"
  },
  "language_info": {
   "codemirror_mode": {
    "name": "ipython",
    "version": 3
   },
   "file_extension": ".py",
   "mimetype": "text/x-python",
   "name": "python",
   "nbconvert_exporter": "python",
   "pygments_lexer": "ipython3",
   "version": "3.8.8"
  },
  "orig_nbformat": 4
 },
 "nbformat": 4,
 "nbformat_minor": 2
}
