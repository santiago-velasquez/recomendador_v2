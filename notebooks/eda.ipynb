{
 "cells": [
  {
   "cell_type": "code",
   "execution_count": 2,
   "source": [
    "import pandas as pd\n",
    "import numpy as np"
   ],
   "outputs": [],
   "metadata": {}
  },
  {
   "cell_type": "markdown",
   "source": [
    "# Procesamiento columna 'Descripción'"
   ],
   "metadata": {}
  },
  {
   "cell_type": "code",
   "execution_count": 3,
   "source": [
    "excel_file = pd.ExcelFile('../data/raw/data.xlsx')\n",
    "sheets = excel_file.sheet_names\n",
    "sheets"
   ],
   "outputs": [
    {
     "output_type": "execute_result",
     "data": {
      "text/plain": [
       "['Lista de equipos',\n",
       " 'Historico calif 2_1(10 años)',\n",
       " 'T-PAP(C)_T-ACE',\n",
       " 'ARC(I)_ARC(D)',\n",
       " 'DP',\n",
       " 'OIL.TAP',\n",
       " 'DIEL.PF_ DIEL',\n",
       " 'OIL.CORR',\n",
       " 'PRO-M',\n",
       " 'M.OLTC']"
      ]
     },
     "metadata": {},
     "execution_count": 3
    }
   ],
   "metadata": {}
  },
  {
   "cell_type": "code",
   "execution_count": 4,
   "source": [
    "import unidecode\n",
    "\n",
    "def norm_descrpcion(s):\n",
    "    s = s.lower()\n",
    "    s = unidecode.unidecode(s)\n",
    "    return s\n",
    "\n",
    "converter_descripcion = {}\n",
    "converter_descripcion['Descripción'] = norm_descrpcion\n",
    "\n",
    "df_collection = {}\n",
    "for name in sheets:\n",
    "    df_collection[name] = pd.read_excel('../data/raw/data.xlsx', sheet_name=name, converters=converter_descripcion)"
   ],
   "outputs": [],
   "metadata": {}
  },
  {
   "cell_type": "markdown",
   "source": [
    "1. Separar cada fila en cada una de las descripciones. i.e : \"realizar analisis dga, humedad y furanos\" deben quedar dos filas exactamente iguales pero con cada uno de los registros. -> pd.explode(), explode a esa accion de expandir un dataset con base a una regla.\r\n",
    "\r\n",
    "2. Aplicar un algoritmo de distancia de levehnstein. \r\n",
    "\r\n",
    "3. Análisis descriptivo que relacione cada equipo con las acciones. i.e: frecuencias de cada accion para cada equipo."
   ],
   "metadata": {}
  },
  {
   "cell_type": "markdown",
   "source": [
    "## Separación manual"
   ],
   "metadata": {}
  },
  {
   "cell_type": "code",
   "execution_count": 26,
   "source": [
    "def separacion_manual(dframe, originales, reemplazos, adiciones):\n",
    "    df = dframe.copy()\n",
    "    for i in range(len(originales)):\n",
    "        index = df['Descripción'].index(originales[i])\n",
    "        if sum(index) > 0:\n",
    "            index = index[index]\n",
    "            index = index[0]\n",
    "            instancias = df.loc[index].copy()\n",
    "            df.loc[index,'Descripción'] = reemplazos[i]\n",
    "            df.append(instancias, ignore_index = True)\n",
    "            df.loc[-1,'Descripción'] = adiciones[i]\n",
    "    return df\n",
    "\n",
    "\n",
    "df_collection_manuales = {}\n",
    "converter_manuales = {}\n",
    "converter_manuales['Originales'] = norm_descrpcion\n",
    "converter_manuales['Reemplazos'] = norm_descrpcion\n",
    "converter_manuales['Adiciones'] = norm_descrpcion\n",
    "\n",
    "df_collection_separados = {}\n",
    "#for name in sheets:\n",
    "    #df_collection_separados[name] = df_collection[name].copy()\n",
    "\n",
    "excel_file_reemplazos = pd.ExcelFile('../data/reemplazos_manual/reemplazos_manual.xlsx')\n",
    "sheets_reemplazos = excel_file_reemplazos.sheet_names\n",
    "\n",
    "df = {}\n",
    "for name in ['T-PAP(C)_T-ACE']:\n",
    "    df_collection_manuales[name] = pd.read_excel('../data/reemplazos_manual/reemplazos_manual.xlsx', sheet_name = name, converters = converter_manuales)\n",
    "    index_manuales = ~df_collection_manuales[name].loc[:,'Reemplazos'].isna()\n",
    "    originales = df_collection_manuales[name].loc[index_manuales, 'Originales'].values\n",
    "    reemplazos = df_collection_manuales[name].loc[index_manuales, 'Reemplazos'].values\n",
    "    adiciones = df_collection_manuales[name].loc[index_manuales, 'Adiciones'].values\n",
    "    #df_collection_separados[name] = separacion_manual(df_collection[name], originales, reemplazos, adiciones)\n",
    "    df[name] = df_collection[name].copy()\n",
    "    for i in [0]:#range(len(originales)):\n",
    "        index = df[name]['Descripción'] == originales[i]\n",
    "        if sum(index) > 0:\n",
    "            #Sólo tener en cuenta el primero\n",
    "            for j in range(len(index)):\n",
    "                if index[j] == True:\n",
    "                    index[j + 1:] = False\n",
    "                    break\n",
    "                    \n",
    "            instancia = df[name].loc[index].copy()\n",
    "            df[name].loc[index,'Descripción'] = reemplazos[i]\n",
    "            print(len(df[name]))\n",
    "            df[name].append(instancia, ignore_index = True)\n",
    "            print(len(df[name]))\n",
    "            df[name].loc[len(df[name]) - 1,'Descripción'] = adiciones[i]\n",
    "\n",
    "\n",
    " \n",
    " \n",
    "# df_collection_manuales['T-PAP(C)_T-ACE'] = pd.read_excel('../data/reemplazos_manual/reemplazos_manual.xlsx', sheet_name = 'T-PAP(C)_T-ACE', converters = converter_manuales)\n",
    "# index_manuales = ~df_collection_manuales['T-PAP(C)_T-ACE'].loc[:,'Reemplazos'].isna()\n",
    "# originales = df_collection_manuales['T-PAP(C)_T-ACE'].loc[index_manuales, 'Originales'].values\n",
    "# reemplazos = df_collection_manuales['T-PAP(C)_T-ACE'].loc[index_manuales, 'Reemplazos'].values\n",
    "# adiciones = df_collection_manuales['T-PAP(C)_T-ACE'].loc[index_manuales, 'Adiciones'].values\n",
    "# df_collection_separados[name] = separacion_manual(df_collection[name], originales, reemplazos, adiciones)\n",
    "\n",
    "# index = df_collection['T-PAP(C)_T-ACE']['Descripción'] == originales[0]\n",
    "\n",
    "#df_collection_separados[name] = separacion_manual(df_collection_separados[name], originales, reemplazos, adiciones)\n",
    "\n",
    "df_collection['T-PAP(C)_T-ACE'].tail(5)"
   ],
   "outputs": [
    {
     "output_type": "stream",
     "name": "stdout",
     "text": [
      "156\n",
      "156\n"
     ]
    },
    {
     "output_type": "execute_result",
     "data": {
      "text/plain": [
       "  Sociedad CO  Equipo                       Denominación Perfil catálogo  \\\n",
       "8         ISA  119040  Autotrafo Monofásico 500/230 kV-B        N-AUTOTR   \n",
       "\n",
       "       Ubicac.técnica Indicador ABC Área de empresa Pto.tbjo.resp.  \\\n",
       "8  CERR500ATR-3-AUTOT           NaN             NOR       38B40005   \n",
       "\n",
       "  Clase de aviso   Aviso                       Descripción  Creado el  \\\n",
       "8             N4  236078  muestra de aceite y analisis dga 2011-05-16   \n",
       "\n",
       "  Inicio deseado Fin deseado  Prioridad Fecha de cierre Status usuario  \\\n",
       "8     2011-06-29  2011-06-29        2.0      2011-07-07      INIC COND   \n",
       "\n",
       "  Status sistema Autor del aviso  \n",
       "8           MECE       FAHERRENO  "
      ],
      "text/html": [
       "<div>\n",
       "<style scoped>\n",
       "    .dataframe tbody tr th:only-of-type {\n",
       "        vertical-align: middle;\n",
       "    }\n",
       "\n",
       "    .dataframe tbody tr th {\n",
       "        vertical-align: top;\n",
       "    }\n",
       "\n",
       "    .dataframe thead th {\n",
       "        text-align: right;\n",
       "    }\n",
       "</style>\n",
       "<table border=\"1\" class=\"dataframe\">\n",
       "  <thead>\n",
       "    <tr style=\"text-align: right;\">\n",
       "      <th></th>\n",
       "      <th>Sociedad CO</th>\n",
       "      <th>Equipo</th>\n",
       "      <th>Denominación</th>\n",
       "      <th>Perfil catálogo</th>\n",
       "      <th>Ubicac.técnica</th>\n",
       "      <th>Indicador ABC</th>\n",
       "      <th>Área de empresa</th>\n",
       "      <th>Pto.tbjo.resp.</th>\n",
       "      <th>Clase de aviso</th>\n",
       "      <th>Aviso</th>\n",
       "      <th>Descripción</th>\n",
       "      <th>Creado el</th>\n",
       "      <th>Inicio deseado</th>\n",
       "      <th>Fin deseado</th>\n",
       "      <th>Prioridad</th>\n",
       "      <th>Fecha de cierre</th>\n",
       "      <th>Status usuario</th>\n",
       "      <th>Status sistema</th>\n",
       "      <th>Autor del aviso</th>\n",
       "    </tr>\n",
       "  </thead>\n",
       "  <tbody>\n",
       "    <tr>\n",
       "      <th>8</th>\n",
       "      <td>ISA</td>\n",
       "      <td>119040</td>\n",
       "      <td>Autotrafo Monofásico 500/230 kV-B</td>\n",
       "      <td>N-AUTOTR</td>\n",
       "      <td>CERR500ATR-3-AUTOT</td>\n",
       "      <td>NaN</td>\n",
       "      <td>NOR</td>\n",
       "      <td>38B40005</td>\n",
       "      <td>N4</td>\n",
       "      <td>236078</td>\n",
       "      <td>muestra de aceite y analisis dga</td>\n",
       "      <td>2011-05-16</td>\n",
       "      <td>2011-06-29</td>\n",
       "      <td>2011-06-29</td>\n",
       "      <td>2.0</td>\n",
       "      <td>2011-07-07</td>\n",
       "      <td>INIC COND</td>\n",
       "      <td>MECE</td>\n",
       "      <td>FAHERRENO</td>\n",
       "    </tr>\n",
       "  </tbody>\n",
       "</table>\n",
       "</div>"
      ]
     },
     "metadata": {},
     "execution_count": 26
    }
   ],
   "metadata": {}
  },
  {
   "cell_type": "code",
   "execution_count": 6,
   "source": [
    "# Extrayendo valores únicos:\n",
    "# unicos_descripcion = {}\n",
    "\n",
    "# for name in sheets:\n",
    "#     if 'Descripción' in df_collection[name].columns:\n",
    "#         unicos_descripcion[name] = pd.unique(df_collection[name]['Descripción'])\n",
    "#         #print(name + ' ' + unicos_descripcion[name])\n",
    "\n",
    "\n",
    "# unicos_descripcion['T-PAP(C)_T-ACE']"
   ],
   "outputs": [],
   "metadata": {}
  }
 ],
 "metadata": {
  "orig_nbformat": 4,
  "language_info": {
   "name": "python",
   "version": "3.8.8",
   "mimetype": "text/x-python",
   "codemirror_mode": {
    "name": "ipython",
    "version": 3
   },
   "pygments_lexer": "ipython3",
   "nbconvert_exporter": "python",
   "file_extension": ".py"
  },
  "kernelspec": {
   "name": "python3",
   "display_name": "Python 3.8.8 64-bit ('base': conda)"
  },
  "interpreter": {
   "hash": "045885b66cfe0b039a7943055a84c8d63304ae38ee6c28ec31abc449d75a6373"
  }
 },
 "nbformat": 4,
 "nbformat_minor": 2
}