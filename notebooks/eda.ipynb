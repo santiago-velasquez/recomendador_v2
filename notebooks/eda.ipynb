{
 "cells": [
  {
   "cell_type": "code",
   "execution_count": 30,
   "source": [
    "import pandas as pd\n",
    "import numpy as np"
   ],
   "outputs": [],
   "metadata": {}
  },
  {
   "cell_type": "markdown",
   "source": [
    "# Procesamiento columna 'Descripción'"
   ],
   "metadata": {}
  },
  {
   "cell_type": "code",
   "execution_count": 31,
   "source": [
    "excel_file = pd.ExcelFile('../data/raw/data.xlsx')\n",
    "sheets = excel_file.sheet_names\n",
    "sheets"
   ],
   "outputs": [
    {
     "output_type": "execute_result",
     "data": {
      "text/plain": [
       "['Lista de equipos',\n",
       " 'Historico calif 2_1(10 años)',\n",
       " 'T-PAP(C)_T-ACE',\n",
       " 'ARC(I)_ARC(D)',\n",
       " 'DP',\n",
       " 'OIL.TAP',\n",
       " 'DIEL.PF_ DIEL',\n",
       " 'OIL.CORR',\n",
       " 'PRO-M',\n",
       " 'M.OLTC']"
      ]
     },
     "metadata": {},
     "execution_count": 31
    }
   ],
   "metadata": {}
  },
  {
   "cell_type": "code",
   "execution_count": 32,
   "source": [
    "import unidecode\n",
    "\n",
    "def norm_descrpcion(s):\n",
    "    s = s.lower()\n",
    "    s = unidecode.unidecode(s)\n",
    "    return s\n",
    "\n",
    "converter_descripcion = {}\n",
    "converter_descripcion['Descripción'] = norm_descrpcion\n",
    "\n",
    "df_collection = {}\n",
    "for name in sheets:\n",
    "    df_collection[name] = pd.read_excel('../data/raw/data.xlsx', sheet_name=name, converters=converter_descripcion)"
   ],
   "outputs": [],
   "metadata": {}
  },
  {
   "cell_type": "markdown",
   "source": [
    "1. Separar cada fila en cada una de las descripciones. i.e : \"realizar analisis dga, humedad y furanos\" deben quedar dos filas exactamente iguales pero con cada uno de los registros. -> pd.explode(), explode a esa accion de expandir un dataset con base a una regla.\r\n",
    "\r\n",
    "2. Aplicar un algoritmo de distancia de levehnstein. \r\n",
    "\r\n",
    "3. Análisis descriptivo que relacione cada equipo con las acciones. i.e: frecuencias de cada accion para cada equipo."
   ],
   "metadata": {}
  },
  {
   "cell_type": "markdown",
   "source": [
    "## Separación manual"
   ],
   "metadata": {}
  },
  {
   "cell_type": "code",
   "execution_count": 33,
   "source": [
    "def separacion_manual(dframe, originales, reemplazos, adiciones):\n",
    "    df = dframe.copy()\n",
    "    for i in range(len(originales)):\n",
    "        index = df['Descripción'] == originales[i]\n",
    "        if sum(index) > 0:\n",
    "            instancias = df.loc[index].copy()\n",
    "            df.loc[index,'Descripción'] = reemplazos[i]\n",
    "            df = df.append(instancias, ignore_index = True)\n",
    "            df.loc[len(df) - sum(index):,'Descripción'] = adiciones[i]\n",
    "    return df\n",
    "\n",
    "\n",
    "\n",
    "\n",
    "df_collection_separados = {}\n",
    "\n",
    "excel_file_reemplazos = pd.ExcelFile('../data/reemplazos_manual/reemplazos_manual.xlsx')\n",
    "sheets_reemplazos = excel_file_reemplazos.sheet_names\n",
    "df_collection_manuales = {}\n",
    "\n",
    "converter_manuales = {}\n",
    "converter_manuales['Originales'] = norm_descrpcion\n",
    "converter_manuales['Reemplazos'] = norm_descrpcion\n",
    "converter_manuales['Adiciones'] = norm_descrpcion\n",
    "\n",
    "for name in sheets_reemplazos:#sheets_reemplazos:\n",
    "    df_collection_manuales[name] = pd.read_excel('../data/reemplazos_manual/reemplazos_manual.xlsx', sheet_name = name, converters = converter_manuales)\n",
    "    index_manuales = ~df_collection_manuales[name].loc[:,'Reemplazos'].isna()\n",
    "    originales = df_collection_manuales[name].loc[index_manuales, 'Originales'].values\n",
    "    reemplazos = df_collection_manuales[name].loc[index_manuales, 'Reemplazos'].values\n",
    "    adiciones = df_collection_manuales[name].loc[index_manuales, 'Adiciones'].values\n",
    "    df_collection_separados[name] = separacion_manual(df_collection[name], originales, reemplazos, adiciones)"
   ],
   "outputs": [],
   "metadata": {}
  },
  {
   "cell_type": "markdown",
   "source": [
    "## Normalización por palabras claves"
   ],
   "metadata": {}
  },
  {
   "cell_type": "code",
   "execution_count": 34,
   "source": [
    "palabras_clave = {}\n",
    "palabras_clave['revisar/cambiar motoventilador'] = ['motoventilador','ventilador','motoventilador']\n",
    "palabras_clave['realizar analisis dga y humedad seguimiento'] = ['dga']\n",
    "palabras_clave['hacer seguimiento generacion anormal de gases'] = ['generacion','energizacion','gases']\n",
    "palabras_clave['cambiar silica oltc'] = ['silica']\n",
    "palabras_clave['cambiar filtro oltc'] = ['filtro']\n",
    "palabras_clave['realizar secado oltc'] = ['secado']\n",
    "palabras_clave['realizar muestreo-analisis fsco-qco oltc'] = ['aceite','muestra','fsco','qco']\n",
    "palabras_clave['realizar regeneramiento aceite aislante'] = ['regeneramiento','regeneracion']\n",
    "palabras_clave['adicionar irgamet39 a 100ppm'] = ['irgamet','pasivador','pasivar']\n",
    "unicos_pc = {}\n",
    "\n",
    "for name in sheets_reemplazos:\n",
    "    unicos = pd.unique(df_collection_separados[name]['Descripción'])\n",
    "    for i in range(len(unicos)):\n",
    "        for key,value in palabras_clave.items():\n",
    "            for word in value:\n",
    "                if word in unicos[i]:\n",
    "                    unicos[i] = key\n",
    "                    break\n",
    "    unicos_pc[name] = unicos"
   ],
   "outputs": [],
   "metadata": {}
  },
  {
   "cell_type": "markdown",
   "source": [
    "## Aplicando el algoritmo de distancia de Levenshtein"
   ],
   "metadata": {}
  },
  {
   "cell_type": "markdown",
   "source": [
    "### Algoritmo de Levenshtein"
   ],
   "metadata": {}
  },
  {
   "cell_type": "code",
   "execution_count": 35,
   "source": [
    "def dist_lev(s1,s2):\n",
    "    dist_matrix = np.zeros((len(s1) + 1, len(s2) + 1))\n",
    "    dist_matrix[1:,0] = range(1,len(s1) + 1)\n",
    "    dist_matrix[0,1:] = range(1,len(s2) + 1)\n",
    "    for i in range(1, len(s1) + 1):\n",
    "        for j in range(1, len(s2) + 1):\n",
    "            if s1[i - 1] == s2[j - 1]:\n",
    "                dist_matrix[i,j] = min(dist_matrix[i - 1, j] + 1, \n",
    "                                    dist_matrix[i - 1, j - 1], \n",
    "                                    dist_matrix[i, j - 1] + 1)\n",
    "            else:\n",
    "                dist_matrix[i,j] = min(dist_matrix[i - 1, j] + 1, \n",
    "                                    dist_matrix[i - 1, j - 1] + 1, \n",
    "                                    dist_matrix[i, j - 1] + 1)\n",
    "    return dist_matrix[-1,-1]"
   ],
   "outputs": [],
   "metadata": {}
  },
  {
   "cell_type": "markdown",
   "source": [
    "### Aplicando y ordenando según distancia"
   ],
   "metadata": {}
  },
  {
   "cell_type": "code",
   "execution_count": 36,
   "source": [
    "# Extrayendo valores únicos:\n",
    "ordenados_collection = {}\n",
    "dist_ordenados_collection = {}\n",
    "index_ordenados_collection = {}\n",
    "for name in sheets_reemplazos:\n",
    "    unicos = pd.unique(unicos_pc[name])\n",
    "    #Construyendo matriz de distancia de Levenshtein\n",
    "    dist_unicos = np.zeros((len(unicos), len(unicos)))\n",
    "    for i in range(len(unicos)):\n",
    "        for j in range(i + 1, len(unicos)):\n",
    "            dist_unicos[i, j] = dist_lev(unicos[i], unicos[j]) \n",
    "            dist_unicos[j, i] = dist_unicos[i, j]  \n",
    "    #Construyendo array de valores únicos ordenados\n",
    "    #Inizializar varibales\n",
    "    ordenados = ['']*len(unicos)\n",
    "    dist_ordenados = np.zeros(len(unicos))\n",
    "    index_ordenados = np.zeros(len(unicos))\n",
    "    #Ubicando primeros dos elementos\n",
    "    max_dist_index = np.argmax(dist_unicos)\n",
    "    max_dist_index = np.unravel_index(max_dist_index, dist_unicos.shape)\n",
    "\n",
    "    ordenados[0] = unicos[max_dist_index[0]]\n",
    "    dist_ordenados[0] = 0\n",
    "    index_ordenados[0] = max_dist_index[0]\n",
    "            \n",
    "    ordenados[-1] = unicos[max_dist_index[1]]\n",
    "    dist_ordenados[-1] = dist_unicos[max_dist_index]\n",
    "    index_ordenados[-1] = max_dist_index[1]\n",
    "\n",
    "    dist_unicos[max_dist_index] = np.inf\n",
    "    dist_unicos[max_dist_index[1], max_dist_index[0]] = np.inf\n",
    "    #Extrayendo la fila que contiene a la distancia máxima\n",
    "    row_index = max_dist_index[0]\n",
    "    row = dist_unicos[row_index,:]\n",
    "    row[row_index] = np.inf #Elementos de la diagonal\n",
    "    #Ubicando el resto de los elementos\n",
    "    for i in range(1, len(unicos) - 1):\n",
    "        min_index = np.argmin(row)\n",
    "        ordenados[i] = unicos[min_index]\n",
    "        dist_ordenados[i] = dist_unicos[row_index, min_index]\n",
    "        index_ordenados[i] = min_index\n",
    "        dist_unicos[row_index,min_index] = np.inf   \n",
    "\n",
    "    #Ubicándolos por hoja\n",
    "    ordenados_collection[name] = ordenados\n",
    "    dist_ordenados_collection[name] = dist_ordenados\n",
    "    index_ordenados_collection[name] = index_ordenados\n"
   ],
   "outputs": [],
   "metadata": {}
  },
  {
   "cell_type": "markdown",
   "source": [
    "### Escribiendo los resultados en Excel"
   ],
   "metadata": {}
  },
  {
   "cell_type": "code",
   "execution_count": 37,
   "source": [
    "import xlsxwriter\n",
    "workbook = xlsxwriter.Workbook('../data/reemplazos_manual/unicos_ordenados.xlsx')\n",
    "for name in sheets_reemplazos:\n",
    "    worksheet = workbook.add_worksheet(name)\n",
    "    for i in range(len(ordenados_collection[name])): \n",
    "        worksheet.write(i,0,ordenados_collection[name][i])\n",
    "        worksheet.write(i,1,ordenados_collection[name][i])\n",
    "        worksheet.write(i,2,dist_ordenados_collection[name][i])\n",
    "        worksheet.write(i,3,index_ordenados_collection[name][i])\n",
    "\n",
    "workbook.close()"
   ],
   "outputs": [],
   "metadata": {}
  },
  {
   "cell_type": "code",
   "execution_count": 38,
   "source": [
    "unicos_pc['OIL.TAP']"
   ],
   "outputs": [
    {
     "output_type": "execute_result",
     "data": {
      "text/plain": [
       "array(['cambiar silica oltc', 'cambiar silica oltc',\n",
       "       'cambiar silica oltc', 'cambiar silica oltc', 'cambiar empaques',\n",
       "       'realizar muestreo-analisis fsco-qco oltc',\n",
       "       'realizar muestreo-analisis fsco-qco oltc', 'cambiar silica oltc',\n",
       "       'realizar muestreo-analisis fsco-qco oltc', 'cambiar silica oltc',\n",
       "       'realizar secado oltc', 'realizar muestreo-analisis fsco-qco oltc',\n",
       "       'realizar muestreo-analisis fsco-qco oltc',\n",
       "       'realizar analisis dga y humedad seguimiento',\n",
       "       'cambiar contador operaciones oltc', 'realizar secado oltc',\n",
       "       'realizar muestreo-analisis fsco-qco oltc', 'cambiar silica oltc',\n",
       "       'cambiar silica oltc',\n",
       "       'realizar analisis dga y humedad seguimiento',\n",
       "       'realizar muestreo-analisis fsco-qco oltc',\n",
       "       'cambiar cable de rele de sobrepresi oltc', 'cambiar silica oltc',\n",
       "       'cambiar silica oltc', 'hacer pruebas lab despues manto oltc',\n",
       "       'cambiar rele de flujo de oltc', 'cambiar silica oltc',\n",
       "       'cambiar silica oltc', 'realizar muestreo-analisis fsco-qco oltc',\n",
       "       'realizar muestreo-analisis fsco-qco oltc',\n",
       "       'cambiar rele de flujo oltc atr-rv',\n",
       "       'realizar muestreo-analisis fsco-qco oltc',\n",
       "       'realizar muestreo-analisis fsco-qco oltc',\n",
       "       'realizar muestreo-analisis fsco-qco oltc',\n",
       "       'realizar muestreo-analisis fsco-qco oltc',\n",
       "       'realizar muestreo-analisis fsco-qco oltc',\n",
       "       'realizar muestreo-analisis fsco-qco oltc',\n",
       "       'realizar muestreo-analisis fsco-qco oltc', 'cambiar silica oltc',\n",
       "       'cambiar silica oltc', 'realizar muestreo-analisis fsco-qco oltc',\n",
       "       'realizar muestreo-analisis fsco-qco oltc',\n",
       "       'adecuar tuberia toma muestreo oltc',\n",
       "       'cambiar valvula de alivio oltc atr-c',\n",
       "       'realizar muestreo-analisis fsco-qco oltc', 'cambiar silica oltc',\n",
       "       'reponer rele de flujo oltc',\n",
       "       'realizar muestreo-analisis fsco-qco oltc',\n",
       "       'realizar muestreo-analisis fsco-qco oltc', 'realizar secado oltc',\n",
       "       'realizar muestreo-analisis fsco-qco oltc',\n",
       "       'muestreo y analisis de furanos',\n",
       "       'realizar muestreo-analisis fsco-qco oltc', 'cambiar silica oltc',\n",
       "       'cambiar silica oltc', 'cambiar silica oltc',\n",
       "       'revisar contador maniobras oltc fc atr2', 'cambiar filtro oltc',\n",
       "       'cambiar filtro oltc', 'cambiar silica oltc',\n",
       "       'cambiar silica oltc', 'cambiar silica oltc',\n",
       "       'cambiar silica oltc', 'cambiar silica oltc',\n",
       "       'cambiar silica oltc', 'cambio de reles de flujo oltc atr2 esme',\n",
       "       'realizar mtto oltc atr-2',\n",
       "       'realizar muestreo-analisis fsco-qco oltc',\n",
       "       'corregir fuga interna oltc cuba fase c', 'cambiar silica oltc',\n",
       "       'realizar muestreo-analisis fsco-qco oltc',\n",
       "       'realizar muestreo-analisis fsco-qco oltc',\n",
       "       'realizar muestreo-analisis fsco-qco oltc',\n",
       "       'realizar muestreo-analisis fsco-qco oltc',\n",
       "       'realizar muestreo-analisis fsco-qco oltc',\n",
       "       'realizar muestreo-analisis fsco-qco oltc',\n",
       "       'realizar muestreo-analisis fsco-qco oltc',\n",
       "       'realizar muestreo-analisis fsco-qco oltc', 'cambiar silica oltc',\n",
       "       'cambiar filtro oltc', 'cambiar filtro oltc',\n",
       "       'revisar contactores-reles-pulsadore oltc', 'cambiar filtro oltc',\n",
       "       'realizar secado oltc', 'realizar muestreo-analisis fsco-qco oltc',\n",
       "       'realizar muestreo-analisis fsco-qco oltc',\n",
       "       'realizar muestreo-analisis fsco-qco oltc',\n",
       "       'realizar muestreo-analisis fsco-qco oltc',\n",
       "       'realizar muestreo-analisis fsco-qco oltc', 'cambiar silica oltc',\n",
       "       'realizar muestreo-analisis fsco-qco oltc', 'cambiar silica oltc',\n",
       "       'cambiar silica oltc', 'cambiar silica oltc',\n",
       "       'revisar senal de mando control oltc', 'reparar mando remoto oltc',\n",
       "       'realizar muestreo-analisis fsco-qco oltc',\n",
       "       'verificar condicion antes energizar oltc', 'cambiar silica oltc',\n",
       "       'cambiar silica oltc', 'realizar muestreo-analisis fsco-qco oltc',\n",
       "       'cambiar silica oltc', 'realizar muestreo-analisis fsco-qco oltc',\n",
       "       'realizar muestreo-analisis fsco-qco oltc', 'cambiar silica oltc',\n",
       "       'revisar contador de maniobras oltc tgj04', 'realizar secado oltc',\n",
       "       'cambiar silica oltc', 'realizar muestreo-analisis fsco-qco oltc',\n",
       "       'cambiar silica oltc', 'cambiar silica oltc',\n",
       "       'realizar muestreo-analisis fsco-qco oltc',\n",
       "       'realizar muestreo-analisis fsco-qco oltc',\n",
       "       'realizar muestreo-analisis fsco-qco oltc',\n",
       "       'seguimiento antes de energizar - oltc',\n",
       "       'realizar muestreo-analisis fsco-qco oltc',\n",
       "       'realizar muestreo-analisis fsco-qco oltc',\n",
       "       'cambiar reles,pulsadores,contactore oltc',\n",
       "       'revisar mando remoto oltc', 'cambiar silica oltc',\n",
       "       'realizar muestreo-analisis fsco-qco oltc', 'cambiar silica oltc',\n",
       "       'hacer seguimiento antes energizar oltc', 'cambiar silica oltc',\n",
       "       'realizar muestreo-analisis fsco-qco oltc', 'cambiar silica oltc',\n",
       "       'cambiar silica oltc', 'colocar a punto oltc fase b atr-1',\n",
       "       'cambiar silica oltc', 'revisar ruido anormal mecanismo oltc',\n",
       "       'hacer seguimiento generacion anormal de gases',\n",
       "       'realizar muestreo-analisis fsco-qco oltc',\n",
       "       'realizar muestreo-analisis fsco-qco oltc',\n",
       "       'realizar muestreo-analisis fsco-qco oltc',\n",
       "       'realizar muestreo-analisis fsco-qco oltc',\n",
       "       'realizar muestreo-analisis fsco-qco oltc',\n",
       "       'realizar muestreo-analisis fsco-qco oltc',\n",
       "       'realizar segui. oltc antes energizar',\n",
       "       'realizar muestreo-analisis fsco-qco oltc',\n",
       "       'realizar muestreo-analisis fsco-qco oltc',\n",
       "       'realizar muestreo-analisis fsco-qco oltc', 'cambiar silica oltc',\n",
       "       'cambiar silica oltc', 'cambiar silica oltc',\n",
       "       'realizar muestreo-analisis fsco-qco oltc',\n",
       "       'revisar senalizacion del oltc.', 'realizar mantenimiento oltc',\n",
       "       'realizar muestreo-analisis fsco-qco oltc',\n",
       "       'hacer cambio de indicador nivel oltc fb',\n",
       "       'realizar muestreo-analisis fsco-qco oltc',\n",
       "       'corregir falla del oltc atr de paez',\n",
       "       'realizar muestreo-analisis fsco-qco oltc', 'realizar secado oltc',\n",
       "       'implementar mando remoto oltc.', 'cambiar silica oltc',\n",
       "       'realizar muestreo-analisis fsco-qco oltc', 'cambiar filtro oltc',\n",
       "       'realizar muestreo-analisis fsco-qco oltc',\n",
       "       'realizar muestreo-analisis fsco-qco oltc',\n",
       "       'seguimiento montaje oltc antes energizar', 'cambiar silica oltc',\n",
       "       'realizar muestreo-analisis fsco-qco oltc',\n",
       "       'realizar muestreo-analisis fsco-qco oltc',\n",
       "       'realizar muestreo-analisis fsco-qco oltc', 'cambiar silica oltc',\n",
       "       'cambiar silica oltc', 'cambiar contador de operaciones oltc',\n",
       "       'realizar muestreo-analisis fsco-qco oltc', 'realizar secado oltc',\n",
       "       'realizar secado oltc', 'realizar muestreo-analisis fsco-qco oltc',\n",
       "       'realizar muestreo-analisis fsco-qco oltc', 'cambiar silica oltc',\n",
       "       'seguimiento oltc despues de mp12 anos', 'realizar secado oltc',\n",
       "       'cambiar silica oltc', 'cambiar silica oltc',\n",
       "       'realizar muestreo-analisis fsco-qco oltc', 'realizar secado oltc',\n",
       "       'revisar oltc subir bajar taps',\n",
       "       'realizar muestreo-analisis fsco-qco oltc',\n",
       "       'realizar muestreo-analisis fsco-qco oltc',\n",
       "       'realizar muestreo-analisis fsco-qco oltc', 'cambiar silica oltc',\n",
       "       'realizar muestreo-analisis fsco-qco oltc', 'cambiar silica oltc',\n",
       "       'realizar muestreo-analisis fsco-qco oltc',\n",
       "       'verificar alto cont humed y baja rd oltc',\n",
       "       'confirmar valores rd,h2o anormales oltc',\n",
       "       'realizar muestreo-analisis fsco-qco oltc',\n",
       "       'modificar sistema filtrado oltc', 'cambiar filtro oltc',\n",
       "       'cambiar silica oltc', 'cambiar filtro oltc',\n",
       "       'realizar secado oltc', 'realizar secado oltc',\n",
       "       'cambiar silica oltc', 'cambiar silica oltc',\n",
       "       'cambiar silica oltc', 'revisar deshumificador oltc fase b',\n",
       "       'cambiar deshumificador fallado oltc', 'cambiar silica oltc',\n",
       "       'realizar muestreo-analisis fsco-qco oltc', 'cambiar silica oltc',\n",
       "       'cambiar silica oltc', 'realizar muestreo-analisis fsco-qco oltc',\n",
       "       'realizar muestreo-analisis fsco-qco oltc',\n",
       "       'realizar muestreo-analisis fsco-qco oltc', 'cambiar silica oltc',\n",
       "       'cambiar silica oltc', 'cambiar silica oltc',\n",
       "       'cambiar silica oltc', 'realizar prueba humedad, rd a oltc',\n",
       "       'realizar muestreo-analisis fsco-qco oltc',\n",
       "       'realizar muestreo-analisis fsco-qco oltc',\n",
       "       'revisar deshumidificador apagado oltc',\n",
       "       'realizar muestreo-analisis fsco-qco oltc',\n",
       "       'cambiar valvula oltc t-ctg05', 'cambiar silica oltc',\n",
       "       'realizar muestreo-analisis fsco-qco oltc',\n",
       "       'realizar analisis dga y humedad seguimiento'], dtype=object)"
      ]
     },
     "metadata": {},
     "execution_count": 38
    }
   ],
   "metadata": {}
  }
 ],
 "metadata": {
  "orig_nbformat": 4,
  "language_info": {
   "name": "python",
   "version": "3.8.8",
   "mimetype": "text/x-python",
   "codemirror_mode": {
    "name": "ipython",
    "version": 3
   },
   "pygments_lexer": "ipython3",
   "nbconvert_exporter": "python",
   "file_extension": ".py"
  },
  "kernelspec": {
   "name": "python3",
   "display_name": "Python 3.8.8 64-bit ('base': conda)"
  },
  "interpreter": {
   "hash": "045885b66cfe0b039a7943055a84c8d63304ae38ee6c28ec31abc449d75a6373"
  }
 },
 "nbformat": 4,
 "nbformat_minor": 2
}