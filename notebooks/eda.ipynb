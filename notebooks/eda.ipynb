{
 "cells": [
  {
   "cell_type": "code",
   "execution_count": null,
   "source": [
    "import pandas as pd\n",
    "import numpy as np"
   ],
   "outputs": [],
   "metadata": {}
  },
  {
   "cell_type": "markdown",
   "source": [
    "# Procesamiento columna 'Descripción'"
   ],
   "metadata": {}
  },
  {
   "cell_type": "code",
   "execution_count": null,
   "source": [
    "excel_file = pd.ExcelFile('../data/raw/data.xlsx')\n",
    "sheets = excel_file.sheet_names\n",
    "sheets"
   ],
   "outputs": [
    {
     "output_type": "execute_result",
     "data": {
      "text/plain": [
       "['Lista de equipos',\n",
       " 'Historico calif 2_1(10 años)',\n",
       " 'T-PAP(C)_T-ACE',\n",
       " 'ARC(I)_ARC(D)',\n",
       " 'DP',\n",
       " 'OIL.TAP',\n",
       " 'DIEL.PF_ DIEL',\n",
       " 'OIL.CORR',\n",
       " 'PRO-M',\n",
       " 'M.OLTC']"
      ]
     },
     "metadata": {},
     "execution_count": 2
    }
   ],
   "metadata": {}
  },
  {
   "cell_type": "code",
   "execution_count": null,
   "source": [
    "import unidecode\n",
    "\n",
    "def norm_descrpcion(s):\n",
    "    s = s.lower()\n",
    "    s = unidecode.unidecode(s)\n",
    "    return s\n",
    "\n",
    "converter_descripcion = {}\n",
    "converter_descripcion['Descripción'] = norm_descrpcion\n",
    "\n",
    "df_collection = {}\n",
    "for name in sheets:\n",
    "    df_collection[name] = pd.read_excel('../data/raw/data.xlsx', sheet_name=name, converters=converter_descripcion)"
   ],
   "outputs": [],
   "metadata": {}
  },
  {
   "cell_type": "markdown",
   "source": [
    "1. Separar cada fila en cada una de las descripciones. i.e : \"realizar analisis dga, humedad y furanos\" deben quedar dos filas exactamente iguales pero con cada uno de los registros. -> pd.explode(), explode a esa accion de expandir un dataset con base a una regla.\r\n",
    "\r\n",
    "2. Aplicar un algoritmo de distancia de levehnstein. \r\n",
    "\r\n",
    "3. Análisis descriptivo que relacione cada equipo con las acciones. i.e: frecuencias de cada accion para cada equipo."
   ],
   "metadata": {}
  },
  {
   "cell_type": "markdown",
   "source": [
    "## Separación manual"
   ],
   "metadata": {}
  },
  {
   "cell_type": "code",
   "execution_count": null,
   "source": [
    "def separacion_manual(dframe, originales, reemplazos, adiciones):\n",
    "    df = dframe.copy()\n",
    "    for i in range(len(originales)):\n",
    "        index = df['Descripción'] == originales[i]\n",
    "        if sum(index) > 0:\n",
    "            instancias = df.loc[index].copy()\n",
    "            df.loc[index,'Descripción'] = reemplazos[i]\n",
    "            df = df.append(instancias, ignore_index = True)\n",
    "            df.loc[len(df) - sum(index):,'Descripción'] = adiciones[i]\n",
    "    return df\n",
    "\n",
    "\n",
    "\n",
    "\n",
    "df_collection_separados = {}\n",
    "\n",
    "excel_file_reemplazos = pd.ExcelFile('../data/reemplazos_manual/reemplazos_manual.xlsx')\n",
    "sheets_reemplazos = excel_file_reemplazos.sheet_names\n",
    "df_collection_manuales = {}\n",
    "\n",
    "converter_manuales = {}\n",
    "converter_manuales['Originales'] = norm_descrpcion\n",
    "converter_manuales['Reemplazos'] = norm_descrpcion\n",
    "converter_manuales['Adiciones'] = norm_descrpcion\n",
    "\n",
    "for name in sheets_reemplazos:#sheets_reemplazos:\n",
    "    df_collection_manuales[name] = pd.read_excel('../data/reemplazos_manual/reemplazos_manual.xlsx', sheet_name = name, converters = converter_manuales)\n",
    "    index_manuales = ~df_collection_manuales[name].loc[:,'Reemplazos'].isna()\n",
    "    originales = df_collection_manuales[name].loc[index_manuales, 'Originales'].values\n",
    "    reemplazos = df_collection_manuales[name].loc[index_manuales, 'Reemplazos'].values\n",
    "    adiciones = df_collection_manuales[name].loc[index_manuales, 'Adiciones'].values\n",
    "    df_collection_separados[name] = separacion_manual(df_collection[name], originales, reemplazos, adiciones)"
   ],
   "outputs": [],
   "metadata": {}
  },
  {
   "cell_type": "markdown",
   "source": [
    "## Normalización por palabras claves"
   ],
   "metadata": {}
  },
  {
   "cell_type": "code",
   "execution_count": null,
   "source": [
    "palabras_clave = {}\n",
    "palabras_clave['revisar/cambiar motoventilador'] = ['motoventilador','ventilador','motoventiladores','ventiladores']\n",
    "palabras_clave['realizar analisis dga y humedad seguimiento'] = ['dga']\n",
    "palabras_clave['hacer seguimiento generacion anormal de gases'] = ['generacion','energizacion','gases']\n",
    "palabras_clave['cambiar silica oltc'] = ['silica']\n",
    "palabras_clave['cambiar filtro oltc'] = ['filtro']\n",
    "palabras_clave['realizar secado oltc'] = ['secado']\n",
    "palabras_clave['realizar muestreo-analisis fsco-qco oltc'] = ['aceite','muestra','fsco','qco']\n",
    "palabras_clave['realizar regeneramiento aceite aislante'] = ['regeneramiento','regeneracion']\n",
    "palabras_clave['adicionar irgamet39 a 100ppm'] = ['irgamet','pasivador','pasivar']\n",
    "palabras_clave['temperatura devenado'] = ['calibrar indicador temperatura devanados']\n",
    "palabras_clave['efectuar prueba de descargas parciales'] = ['descargas parc']\n",
    "palabras_clave['seguimiento durante montaje'] = ['durante montaje']\n",
    "palabras_clave['verificar condicion antes energizar oltc'] = ['energizar']\n",
    "palabras_clave['realizar prueba estimacion humedad whrt'] = ['estimacion humedad']\n",
    "palabras_clave['cambiar valvula alivio presion'] = ['alivio presion', 'alivio de presion','valvula alivio','valvula de alivio','valvula de sobre presion','valvula sobre presion','valvula de sobrepresion','valvula sobrepresion']\n",
    "palabras_clave['presion subita'] = ['cambiar rele presion subita']\n",
    "palabras_clave['revisar/cambiar contador cambiador tapsbiador'] = ['contador']\n",
    "df_collection_pc = df_collection_separados.copy()\n",
    "unicos_pc = {}\n",
    "index_unicos_pc = {}\n",
    "\n",
    "for name in sheets_reemplazos:\n",
    "    unicos = pd.unique(df_collection_separados[name]['Descripción'])\n",
    "    index_unicos = np.zeros(len(unicos))\n",
    "    for i in range(len(unicos)):\n",
    "        index_unicos[i] = i\n",
    "        for key,value in palabras_clave.items():\n",
    "            for word in value:\n",
    "                if word in unicos[i]:\n",
    "                    df_collection_pc[name] = df_collection_pc[name].replace(unicos[i],key)\n",
    "                    unicos[i] = key\n",
    "                    break\n",
    "    unicos_pc[name] = unicos\n",
    "    index_unicos_pc[name] = index_unicos"
   ],
   "outputs": [],
   "metadata": {}
  },
  {
   "cell_type": "markdown",
   "source": [
    "## Aplicando el algoritmo de distancia de Levenshtein"
   ],
   "metadata": {}
  },
  {
   "cell_type": "markdown",
   "source": [
    "### Algoritmo de Levenshtein"
   ],
   "metadata": {}
  },
  {
   "cell_type": "code",
   "execution_count": null,
   "source": [
    "def dist_lev(s1,s2):\n",
    "    dist_matrix = np.zeros((len(s1) + 1, len(s2) + 1))\n",
    "    dist_matrix[1:,0] = range(1,len(s1) + 1)\n",
    "    dist_matrix[0,1:] = range(1,len(s2) + 1)\n",
    "    for i in range(1, len(s1) + 1):\n",
    "        for j in range(1, len(s2) + 1):\n",
    "            if s1[i - 1] == s2[j - 1]:\n",
    "                dist_matrix[i,j] = min(dist_matrix[i - 1, j] + 1, \n",
    "                                    dist_matrix[i - 1, j - 1], \n",
    "                                    dist_matrix[i, j - 1] + 1)\n",
    "            else:\n",
    "                dist_matrix[i,j] = min(dist_matrix[i - 1, j] + 1, \n",
    "                                    dist_matrix[i - 1, j - 1] + 1, \n",
    "                                    dist_matrix[i, j - 1] + 1)\n",
    "    return dist_matrix[-1,-1]"
   ],
   "outputs": [],
   "metadata": {}
  },
  {
   "cell_type": "markdown",
   "source": [
    "### Aplicando y ordenando según distancia"
   ],
   "metadata": {}
  },
  {
   "cell_type": "code",
   "execution_count": 7,
   "source": [
    "# Extrayendo valores únicos:\n",
    "ordenados_collection = {}\n",
    "dist_ordenados_collection = {}\n",
    "index_ordenados_collection = {}\n",
    "for name in sheets_reemplazos:\n",
    "    unicos = pd.unique(unicos_pc[name])\n",
    "    #Construyendo matriz de distancia de Levenshtein\n",
    "    dist_unicos = np.zeros((len(unicos), len(unicos)))\n",
    "    for i in range(len(unicos)):\n",
    "        for j in range(i + 1, len(unicos)):\n",
    "            dist_unicos[i, j] = dist_lev(unicos[i], unicos[j])\n",
    "            dist_unicos[j,i] = dist_unicos[i,j] \n",
    "    #Inizializar varibales\n",
    "    # dist_unicos = np.array([[0,8,8,10.5],[1,0,4,3],[2,5,0,6],[8,10,7,0]])\n",
    "    # unicos = [1,2,3,4]\n",
    "    ordenados = ['']*len(unicos)\n",
    "    dist_ordenados = np.zeros(len(unicos))\n",
    "    index_ordenados = np.zeros(len(unicos))\n",
    "    #Ubicando primer elemento\n",
    "    max_dist_index = np.argmax(dist_unicos)\n",
    "    max_dist_index = np.unravel_index(max_dist_index, np.shape(dist_unicos))\n",
    "    row = max_dist_index[0]\n",
    "    ordenados[0] = unicos[row]\n",
    "    index_ordenados[0] = row\n",
    "    dist_ordenados[0] = 0\n",
    "    dist_unicos[row,:] = np.inf\n",
    "    #Diagonal igual a infinito\n",
    "    for i in range(len(unicos)):\n",
    "        dist_unicos[i,i] = np.inf\n",
    "    #Ubicando el resto de los elementos\n",
    "    for i in range(len(unicos) - 1):\n",
    "        min_dist = np.min(dist_unicos[:,row])\n",
    "        dist_ordenados[i + 1] = dist_ordenados[i] + min_dist\n",
    "        row = np.argmin(dist_unicos[:,row])\n",
    "        ordenados[i + 1] = unicos[row]\n",
    "        index_ordenados[i + 1] = row\n",
    "        dist_unicos[row,:] = np.inf\n",
    "    #Ubicándolos por hoja\n",
    "    ordenados_collection[name] = ordenados\n",
    "    dist_ordenados_collection[name] = dist_ordenados\n",
    "    index_ordenados_collection[name] = index_ordenados\n"
   ],
   "outputs": [],
   "metadata": {}
  },
  {
   "cell_type": "markdown",
   "source": [
    "### Escribiendo los resultados en Excel"
   ],
   "metadata": {}
  },
  {
   "cell_type": "code",
   "execution_count": 8,
   "source": [
    "import xlsxwriter\n",
    "workbook = xlsxwriter.Workbook('../data/reemplazos_manual/unicos_ordenados.xlsx')\n",
    "for name in sheets_reemplazos:\n",
    "    worksheet = workbook.add_worksheet(name)\n",
    "    for i in range(len(ordenados_collection[name])): \n",
    "        worksheet.write(i,0,ordenados_collection[name][i])\n",
    "        worksheet.write(i,1,ordenados_collection[name][i])\n",
    "        worksheet.write(i,2,dist_ordenados_collection[name][i])\n",
    "        worksheet.write(i,3,index_ordenados_collection[name][i])\n",
    "\n",
    "workbook.close()"
   ],
   "outputs": [],
   "metadata": {}
  },
  {
   "cell_type": "markdown",
   "source": [
    "# Separación por equipos"
   ],
   "metadata": {}
  },
  {
   "cell_type": "code",
   "execution_count": 25,
   "source": [
    "equipos_unicos = pd.unique(df_collection['Lista de equipos']['Equipo'])\n",
    "df_collection_equipos = {}\n",
    "for sheet in sheets_reemplazos:\n",
    "    df_collection_equipos[sheet] = pd.DataFrame()\n",
    "    equipos_unicos = pd.unique(df_collection_pc[sheet]['Equipo'])\n",
    "    for equipo in equipos_unicos:\n",
    "        df_equipo = df_collection_pc[sheet].loc[df_collection_pc[sheet]['Equipo'] == equipo].copy()\n",
    "        descripciones_unicas = pd.unique(df_equipo['Descripción'])\n",
    "        equipo_descripcion = {'Equipo':[equipo]*len(descripciones_unicas),'Descripción':descripciones_unicas}\n",
    "        df_collection_equipos[sheet] = df_collection_equipos[sheet].append(pd.DataFrame(equipo_descripcion),ignore_index = True)\n"
   ],
   "outputs": [],
   "metadata": {}
  },
  {
   "cell_type": "code",
   "execution_count": 26,
   "source": [
    "df_collection_equipos['T-PAP(C)_T-ACE']"
   ],
   "outputs": [
    {
     "output_type": "execute_result",
     "data": {
      "text/html": [
       "<div>\n",
       "<style scoped>\n",
       "    .dataframe tbody tr th:only-of-type {\n",
       "        vertical-align: middle;\n",
       "    }\n",
       "\n",
       "    .dataframe tbody tr th {\n",
       "        vertical-align: top;\n",
       "    }\n",
       "\n",
       "    .dataframe thead th {\n",
       "        text-align: right;\n",
       "    }\n",
       "</style>\n",
       "<table border=\"1\" class=\"dataframe\">\n",
       "  <thead>\n",
       "    <tr style=\"text-align: right;\">\n",
       "      <th></th>\n",
       "      <th>Equipo</th>\n",
       "      <th>Descripción</th>\n",
       "    </tr>\n",
       "  </thead>\n",
       "  <tbody>\n",
       "    <tr>\n",
       "      <th>0</th>\n",
       "      <td>809578</td>\n",
       "      <td>realizar analisis dga y humedad seguimiento</td>\n",
       "    </tr>\n",
       "    <tr>\n",
       "      <th>1</th>\n",
       "      <td>809578</td>\n",
       "      <td>revisar/cambiar motoventilador</td>\n",
       "    </tr>\n",
       "    <tr>\n",
       "      <th>2</th>\n",
       "      <td>809578</td>\n",
       "      <td>efectuar seguimiento anomalia termica</td>\n",
       "    </tr>\n",
       "    <tr>\n",
       "      <th>3</th>\n",
       "      <td>809578</td>\n",
       "      <td>realizar muestreo-analisis fsco-qco oltc</td>\n",
       "    </tr>\n",
       "    <tr>\n",
       "      <th>4</th>\n",
       "      <td>810449</td>\n",
       "      <td>realizar analisis dga y humedad seguimiento</td>\n",
       "    </tr>\n",
       "    <tr>\n",
       "      <th>...</th>\n",
       "      <td>...</td>\n",
       "      <td>...</td>\n",
       "    </tr>\n",
       "    <tr>\n",
       "      <th>91</th>\n",
       "      <td>203342</td>\n",
       "      <td>cambiar indicador de nivel cuba ppal</td>\n",
       "    </tr>\n",
       "    <tr>\n",
       "      <th>92</th>\n",
       "      <td>203342</td>\n",
       "      <td>realizar analisis dga y humedad seguimiento</td>\n",
       "    </tr>\n",
       "    <tr>\n",
       "      <th>93</th>\n",
       "      <td>118423</td>\n",
       "      <td>revisar/cambiar motoventilador</td>\n",
       "    </tr>\n",
       "    <tr>\n",
       "      <th>94</th>\n",
       "      <td>118423</td>\n",
       "      <td>montaje de moto ventiladir</td>\n",
       "    </tr>\n",
       "    <tr>\n",
       "      <th>95</th>\n",
       "      <td>300390</td>\n",
       "      <td>realizar muestreo-analisis fsco-qco oltc</td>\n",
       "    </tr>\n",
       "  </tbody>\n",
       "</table>\n",
       "<p>96 rows × 2 columns</p>\n",
       "</div>"
      ],
      "text/plain": [
       "    Equipo                                  Descripción\n",
       "0   809578  realizar analisis dga y humedad seguimiento\n",
       "1   809578               revisar/cambiar motoventilador\n",
       "2   809578        efectuar seguimiento anomalia termica\n",
       "3   809578     realizar muestreo-analisis fsco-qco oltc\n",
       "4   810449  realizar analisis dga y humedad seguimiento\n",
       "..     ...                                          ...\n",
       "91  203342         cambiar indicador de nivel cuba ppal\n",
       "92  203342  realizar analisis dga y humedad seguimiento\n",
       "93  118423               revisar/cambiar motoventilador\n",
       "94  118423                   montaje de moto ventiladir\n",
       "95  300390     realizar muestreo-analisis fsco-qco oltc\n",
       "\n",
       "[96 rows x 2 columns]"
      ]
     },
     "metadata": {},
     "execution_count": 26
    }
   ],
   "metadata": {}
  }
 ],
 "metadata": {
  "orig_nbformat": 4,
  "language_info": {
   "name": "python",
   "version": "3.8.8",
   "mimetype": "text/x-python",
   "codemirror_mode": {
    "name": "ipython",
    "version": 3
   },
   "pygments_lexer": "ipython3",
   "nbconvert_exporter": "python",
   "file_extension": ".py"
  },
  "kernelspec": {
   "name": "python3",
   "display_name": "Python 3.8.8 64-bit ('base': conda)"
  },
  "interpreter": {
   "hash": "045885b66cfe0b039a7943055a84c8d63304ae38ee6c28ec31abc449d75a6373"
  }
 },
 "nbformat": 4,
 "nbformat_minor": 2
}