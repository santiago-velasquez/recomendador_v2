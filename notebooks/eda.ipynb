{
 "cells": [
  {
   "cell_type": "code",
   "execution_count": 180,
   "source": [
    "import pandas as pd\n",
    "import numpy as np"
   ],
   "outputs": [],
   "metadata": {}
  },
  {
   "cell_type": "markdown",
   "source": [
    "# Procesamiento columna 'Descripción'"
   ],
   "metadata": {}
  },
  {
   "cell_type": "code",
   "execution_count": 181,
   "source": [
    "excel_file = pd.ExcelFile('../data/raw/data.xlsx')\n",
    "sheets = excel_file.sheet_names\n",
    "sheets"
   ],
   "outputs": [
    {
     "output_type": "execute_result",
     "data": {
      "text/plain": [
       "['Lista de equipos',\n",
       " 'Historico calif 2_1(10 años)',\n",
       " 'T-PAP(C)_T-ACE',\n",
       " 'ARC(I)_ARC(D)',\n",
       " 'DP',\n",
       " 'OIL.TAP',\n",
       " 'DIEL.PF_ DIEL',\n",
       " 'OIL.CORR',\n",
       " 'PRO-M',\n",
       " 'M.OLTC']"
      ]
     },
     "metadata": {},
     "execution_count": 181
    }
   ],
   "metadata": {}
  },
  {
   "cell_type": "code",
   "execution_count": 182,
   "source": [
    "import unidecode\n",
    "\n",
    "def norm_descrpcion(s):\n",
    "    s = s.lower()\n",
    "    s = unidecode.unidecode(s)\n",
    "    return s\n",
    "\n",
    "converter_descripcion = {}\n",
    "converter_descripcion['Descripción'] = norm_descrpcion\n",
    "\n",
    "df_collection = {}\n",
    "for name in sheets:\n",
    "    df_collection[name] = pd.read_excel('../data/raw/data.xlsx', sheet_name=name, converters=converter_descripcion)"
   ],
   "outputs": [],
   "metadata": {}
  },
  {
   "cell_type": "markdown",
   "source": [
    "1. Separar cada fila en cada una de las descripciones. i.e : \"realizar analisis dga, humedad y furanos\" deben quedar dos filas exactamente iguales pero con cada uno de los registros. -> pd.explode(), explode a esa accion de expandir un dataset con base a una regla.\r\n",
    "\r\n",
    "2. Aplicar un algoritmo de distancia de levehnstein. \r\n",
    "\r\n",
    "3. Análisis descriptivo que relacione cada equipo con las acciones. i.e: frecuencias de cada accion para cada equipo."
   ],
   "metadata": {}
  },
  {
   "cell_type": "markdown",
   "source": [
    "## Separación manual"
   ],
   "metadata": {}
  },
  {
   "cell_type": "code",
   "execution_count": 183,
   "source": [
    "def separacion_manual(dframe, originales, reemplazos, adiciones):\n",
    "    df = dframe.copy()\n",
    "    for i in range(len(originales)):\n",
    "        index = df['Descripción'] == originales[i]\n",
    "        if sum(index) > 0:\n",
    "            instancias = df.loc[index].copy()\n",
    "            df.loc[index,'Descripción'] = reemplazos[i]\n",
    "            df = df.append(instancias, ignore_index = True)\n",
    "            df.loc[len(df) - sum(index):,'Descripción'] = adiciones[i]\n",
    "    return df\n",
    "\n",
    "\n",
    "\n",
    "\n",
    "df_collection_separados = {}\n",
    "\n",
    "excel_file_reemplazos = pd.ExcelFile('../data/reemplazos_manual/reemplazos_manual.xlsx')\n",
    "sheets_reemplazos = excel_file_reemplazos.sheet_names\n",
    "df_collection_manuales = {}\n",
    "\n",
    "converter_manuales = {}\n",
    "converter_manuales['Originales'] = norm_descrpcion\n",
    "converter_manuales['Reemplazos'] = norm_descrpcion\n",
    "converter_manuales['Adiciones'] = norm_descrpcion\n",
    "\n",
    "for name in sheets_reemplazos:#sheets_reemplazos:\n",
    "    df_collection_manuales[name] = pd.read_excel('../data/reemplazos_manual/reemplazos_manual.xlsx', sheet_name = name, converters = converter_manuales)\n",
    "    index_manuales = ~df_collection_manuales[name].loc[:,'Reemplazos'].isna()\n",
    "    originales = df_collection_manuales[name].loc[index_manuales, 'Originales'].values\n",
    "    reemplazos = df_collection_manuales[name].loc[index_manuales, 'Reemplazos'].values\n",
    "    adiciones = df_collection_manuales[name].loc[index_manuales, 'Adiciones'].values\n",
    "    df_collection_separados[name] = separacion_manual(df_collection[name], originales, reemplazos, adiciones)"
   ],
   "outputs": [],
   "metadata": {}
  },
  {
   "cell_type": "markdown",
   "source": [
    "## Normalización por palabras claves"
   ],
   "metadata": {}
  },
  {
   "cell_type": "code",
   "execution_count": 184,
   "source": [
    "palabras_clave = {}\n",
    "palabras_clave['revisar/cambiar motoventilador'] = ['motoventilador','ventilador','motoventiladores','ventiladores']\n",
    "palabras_clave['realizar analisis dga y humedad seguimiento'] = ['dga']\n",
    "palabras_clave['hacer seguimiento generacion anormal de gases'] = ['generacion','energizacion','gases']\n",
    "palabras_clave['cambiar silica oltc'] = ['silica']\n",
    "palabras_clave['cambiar filtro oltc'] = ['filtro']\n",
    "palabras_clave['realizar secado oltc'] = ['secado']\n",
    "palabras_clave['realizar muestreo-analisis fsco-qco oltc'] = ['aceite','muestra','fsco','qco']\n",
    "palabras_clave['realizar regeneramiento aceite aislante'] = ['regeneramiento','regeneracion']\n",
    "palabras_clave['adicionar irgamet39 a 100ppm'] = ['irgamet','pasivador','pasivar']\n",
    "palabras_clave['temperatura devenado'] = ['calibrar indicador temperatura devanados']\n",
    "palabras_clave['efectuar prueba de descargas parciales'] = ['descargas parc']\n",
    "palabras_clave['seguimiento durante montaje'] = ['durante montaje']\n",
    "palabras_clave['verificar condicion antes energizar oltc'] = ['energizar']\n",
    "palabras_clave['realizar prueba estimacion humedad whrt'] = ['estimacion humedad']\n",
    "palabras_clave['cambiar valvula alivio presion'] = ['alivio presion', 'alivio de presion','valvula alivio','valvula de alivio','valvula de sobre presion','valvula sobre presion','valvula de sobrepresion','valvula sobrepresion']\n",
    "palabras_clave['presion subita'] = ['cambiar rele presion subita']\n",
    "palabras_clave['revisar/cambiar contador cambiador tapsbiador'] = ['contador']\n",
    "unicos_pc = {}\n",
    "\n",
    "for name in sheets_reemplazos:\n",
    "    unicos = pd.unique(df_collection_separados[name]['Descripción'])\n",
    "    for i in range(len(unicos)):\n",
    "        for key,value in palabras_clave.items():\n",
    "            for word in value:\n",
    "                if word in unicos[i]:\n",
    "                    unicos[i] = key\n",
    "                    break\n",
    "    unicos_pc[name] = unicos"
   ],
   "outputs": [],
   "metadata": {}
  },
  {
   "cell_type": "markdown",
   "source": [
    "## Aplicando el algoritmo de distancia de Levenshtein"
   ],
   "metadata": {}
  },
  {
   "cell_type": "markdown",
   "source": [
    "### Algoritmo de Levenshtein"
   ],
   "metadata": {}
  },
  {
   "cell_type": "code",
   "execution_count": 185,
   "source": [
    "def dist_lev(s1,s2):\n",
    "    dist_matrix = np.zeros((len(s1) + 1, len(s2) + 1))\n",
    "    dist_matrix[1:,0] = range(1,len(s1) + 1)\n",
    "    dist_matrix[0,1:] = range(1,len(s2) + 1)\n",
    "    for i in range(1, len(s1) + 1):\n",
    "        for j in range(1, len(s2) + 1):\n",
    "            if s1[i - 1] == s2[j - 1]:\n",
    "                dist_matrix[i,j] = min(dist_matrix[i - 1, j] + 1, \n",
    "                                    dist_matrix[i - 1, j - 1], \n",
    "                                    dist_matrix[i, j - 1] + 1)\n",
    "            else:\n",
    "                dist_matrix[i,j] = min(dist_matrix[i - 1, j] + 1, \n",
    "                                    dist_matrix[i - 1, j - 1] + 1, \n",
    "                                    dist_matrix[i, j - 1] + 1)\n",
    "    return dist_matrix[-1,-1]"
   ],
   "outputs": [],
   "metadata": {}
  },
  {
   "cell_type": "markdown",
   "source": [
    "### Aplicando y ordenando según distancia"
   ],
   "metadata": {}
  },
  {
   "cell_type": "code",
   "execution_count": 179,
   "source": [
    "# Extrayendo valores únicos:\n",
    "ordenados_collection = {}\n",
    "dist_ordenados_collection = {}\n",
    "index_ordenados_collection = {}\n",
    "for name in sheets_reemplazos:\n",
    "    unicos = pd.unique(unicos_pc[name])\n",
    "    #Construyendo matriz de distancia de Levenshtein\n",
    "    dist_unicos = np.zeros((len(unicos), len(unicos)))\n",
    "    for i in range(len(unicos)):\n",
    "        for j in range(i + 1, len(unicos)):\n",
    "            dist_unicos[i, j] = dist_lev(unicos[i], unicos[j])\n",
    "            dist_unicos[j,i] = dist_unicos[i,j] \n",
    "    #Inizializar varibales\n",
    "    # dist_unicos = np.array([[0,8,8,10.5],[1,0,4,3],[2,5,0,6],[8,10,7,0]])\n",
    "    # unicos = [1,2,3,4]\n",
    "    ordenados = ['']*len(unicos)\n",
    "    dist_ordenados = np.zeros(len(unicos))\n",
    "    index_ordenados = np.zeros(len(unicos))\n",
    "    #Ubicando primer elemento\n",
    "    max_dist_index = np.argmax(dist_unicos)\n",
    "    max_dist_index = np.unravel_index(max_dist_index, np.shape(dist_unicos))\n",
    "    row = max_dist_index[0]\n",
    "    ordenados[0] = unicos[row]\n",
    "    index_ordenados[0] = row\n",
    "    dist_ordenados[0] = 0\n",
    "    dist_unicos[row,:] = np.inf\n",
    "    #Diagonal igual a infinito\n",
    "    for i in range(len(unicos)):\n",
    "        dist_unicos[i,i] = np.inf\n",
    "    #Ubicando el resto de los elementos\n",
    "    for i in range(len(unicos) - 1):\n",
    "        min_dist = np.min(dist_unicos[:,row])\n",
    "        dist_ordenados[i + 1] = dist_ordenados[i] + min_dist\n",
    "        row = np.argmin(dist_unicos[:,row])\n",
    "        ordenados[i + 1] = unicos[row]\n",
    "        index_ordenados[i + 1] = row\n",
    "        dist_unicos[row,:] = np.inf\n",
    "    #Ubicándolos por hoja\n",
    "    ordenados_collection[name] = ordenados\n",
    "    dist_ordenados_collection[name] = dist_ordenados\n",
    "    index_ordenados_collection[name] = index_ordenados\n"
   ],
   "outputs": [
    {
     "output_type": "stream",
     "name": "stdout",
     "text": [
      "[[inf inf inf ... inf inf inf]\n",
      " [31. inf 32. ... 26. 16. 23.]\n",
      " [31. 32. inf ... 32. 36. 17.]\n",
      " ...\n",
      " [32. 26. 32. ... inf 24. 22.]\n",
      " [35. 16. 36. ... 24. inf 24.]\n",
      " [24. 23. 17. ... 22. 24. inf]]\n",
      "[[inf inf inf inf inf inf]\n",
      " [31. inf 38. 32. 33. 17.]\n",
      " [39. 38. inf 34. 35. 37.]\n",
      " [33. 32. 34. inf 30. 31.]\n",
      " [36. 33. 35. 30. inf 27.]\n",
      " [24. 17. 37. 31. 27. inf]]\n",
      "[[inf 27. 32. 34. 29. 10. 32. 23.]\n",
      " [inf inf inf inf inf inf inf inf]\n",
      " [32. 38. inf 31. 32. 32. 36. 21.]\n",
      " [34. 39. 31. inf 33. 34. 34. 24.]\n",
      " [29. 34. 32. 33. inf 30. 31. 28.]\n",
      " [10. 29. 32. 34. 30. inf 32. 25.]\n",
      " [32. 34. 36. 34. 31. 32. inf 31.]\n",
      " [23. 35. 21. 24. 28. 25. 31. inf]]\n",
      "[[inf 10. 27. ... 24. 24. 13.]\n",
      " [10. inf 33. ... 27. 30. 19.]\n",
      " [27. 33. inf ... 23. 25. 31.]\n",
      " ...\n",
      " [24. 27. 23. ... inf 22. 27.]\n",
      " [24. 30. 25. ... 22. inf 31.]\n",
      " [13. 19. 31. ... 27. 31. inf]]\n",
      "[[inf 25. 31. 28. 38. 27.]\n",
      " [25. inf 25. 27. 33. 25.]\n",
      " [inf inf inf inf inf inf]\n",
      " [28. 27. 32. inf 35. 28.]\n",
      " [38. 33. 39. 35. inf 32.]\n",
      " [27. 25. 28. 28. 32. inf]]\n",
      "[[inf 32. 31. 27. 29. 31. 28. 34. 27. 26. 34. 32.]\n",
      " [inf inf inf inf inf inf inf inf inf inf inf inf]\n",
      " [31. 37. inf 32. 29. 34. 32. 33. 28. 29. 35. 34.]\n",
      " [27. 17. 32. inf 27. 25. 16. 23. 28. 22. 31. 18.]\n",
      " [29. 29. 29. 27. inf 31. 26. 34. 24. 23. 33. 32.]\n",
      " [31. 25. 34. 25. 31. inf 25. 31. 33. 27. 34. 25.]\n",
      " [28. 17. 32. 16. 26. 25. inf 28. 28. 25. 33. 19.]\n",
      " [34. 23. 33. 23. 34. 31. 28. inf 29. 29. 24. 30.]\n",
      " [27. 30. 28. 28. 24. 33. 28. 29. inf 21. 33. 29.]\n",
      " [26. 26. 29. 22. 23. 27. 25. 29. 21. inf 31. 19.]\n",
      " [34. 34. 35. 31. 33. 34. 33. 24. 33. 31. inf 31.]\n",
      " [32. 22. 34. 18. 32. 25. 19. 30. 29. 19. 31. inf]]\n",
      "[[inf inf inf ... inf inf inf]\n",
      " [30. inf 27. ... 24. 25.  9.]\n",
      " [29. 27. inf ... 30. 34. 31.]\n",
      " ...\n",
      " [29. 24. 30. ... inf 27. 23.]\n",
      " [35. 25. 34. ... 27. inf 24.]\n",
      " [32.  9. 31. ... 23. 24. inf]]\n",
      "[[inf 30. 25. ... 19. 22. 20.]\n",
      " [30. inf 33. ... 29. 32. 32.]\n",
      " [25. 33. inf ... 29. 29. 29.]\n",
      " ...\n",
      " [19. 29. 29. ... inf  9.  7.]\n",
      " [22. 32. 29. ...  9. inf  2.]\n",
      " [20. 32. 29. ...  7.  2. inf]]\n"
     ]
    }
   ],
   "metadata": {}
  },
  {
   "cell_type": "markdown",
   "source": [
    "### Escribiendo los resultados en Excel"
   ],
   "metadata": {}
  },
  {
   "cell_type": "code",
   "execution_count": 186,
   "source": [
    "import xlsxwriter\n",
    "workbook = xlsxwriter.Workbook('../data/reemplazos_manual/unicos_ordenados.xlsx')\n",
    "for name in sheets_reemplazos:\n",
    "    worksheet = workbook.add_worksheet(name)\n",
    "    for i in range(len(ordenados_collection[name])): \n",
    "        worksheet.write(i,0,ordenados_collection[name][i])\n",
    "        worksheet.write(i,1,ordenados_collection[name][i])\n",
    "        worksheet.write(i,2,dist_ordenados_collection[name][i])\n",
    "        worksheet.write(i,3,index_ordenados_collection[name][i])\n",
    "\n",
    "workbook.close()"
   ],
   "outputs": [],
   "metadata": {}
  },
  {
   "cell_type": "code",
   "execution_count": 187,
   "source": [
    "ordenados_collection['T-PAP(C)_T-ACE']"
   ],
   "outputs": [
    {
     "output_type": "execute_result",
     "data": {
      "text/plain": [
       "['realizar analisis dga y humedad seguimiento',\n",
       " 'realizar analsisis de metanol en doble',\n",
       " 'realizar analisis fiso-qc',\n",
       " 'realizar muestreo-analisis fsco-qco oltc',\n",
       " 'realizar muestreo y analisis furanos',\n",
       " 'muestreo y analisis de furanos',\n",
       " 'temperatura devenado',\n",
       " 'revisar/cambiar motoventilador',\n",
       " 'montaje de moto ventiladir',\n",
       " 'revisar circuito control oltc',\n",
       " 'revisar ventilacion forzada',\n",
       " 'revisar control refrigeracion atr-1',\n",
       " 'reemplazar controlador refrigeracion',\n",
       " 'cambiar controlador temperatura',\n",
       " 'calibrar el indicador de temperatura',\n",
       " 'calibrar  indicador temperatura devanado',\n",
       " 'revisar indicador temperatura fase c',\n",
       " 'revision indicadores temperatura/t pozos',\n",
       " 'cambiar indicador de nivel cuba ppal',\n",
       " 'cambiar indicado de nivel cuba',\n",
       " 'realizar cambio de indicador  nivel cuba',\n",
       " 'hacer cambio de indicador nivel oltc fb',\n",
       " 'repar sistema de refrigeracion  fase c',\n",
       " 'revisar sistema de enfriamiento forzado',\n",
       " 'revisar ruido anormal motovent. #40',\n",
       " 'revisar ruido anormal motovent ttgj01',\n",
       " 'revisar alimentacion ventilad t-tgj01',\n",
       " 'efectuar seguimiento anomalia termica',\n",
       " 'seguimiento atr1 por falla trifasica',\n",
       " 'seguimiento mes despues de evento',\n",
       " 'seguimiento semana energizado - oltc',\n",
       " 'hacer seguimiento generacion anormal de gases',\n",
       " 'analizar ruido alto reactor de linea',\n",
       " 'cambiar ajuste etapa 2 refrigeracion',\n",
       " 'cambiar guardamotor sist. refrigeracion',\n",
       " 'revisar ventladores sist. refrigeracion']"
      ]
     },
     "metadata": {},
     "execution_count": 187
    }
   ],
   "metadata": {}
  },
  {
   "cell_type": "code",
   "execution_count": 188,
   "source": [
    "dist_unicos[row,:] = np.inf"
   ],
   "outputs": [],
   "metadata": {}
  }
 ],
 "metadata": {
  "orig_nbformat": 4,
  "language_info": {
   "name": "python",
   "version": "3.8.8",
   "mimetype": "text/x-python",
   "codemirror_mode": {
    "name": "ipython",
    "version": 3
   },
   "pygments_lexer": "ipython3",
   "nbconvert_exporter": "python",
   "file_extension": ".py"
  },
  "kernelspec": {
   "name": "python3",
   "display_name": "Python 3.8.8 64-bit ('base': conda)"
  },
  "interpreter": {
   "hash": "045885b66cfe0b039a7943055a84c8d63304ae38ee6c28ec31abc449d75a6373"
  }
 },
 "nbformat": 4,
 "nbformat_minor": 2
}